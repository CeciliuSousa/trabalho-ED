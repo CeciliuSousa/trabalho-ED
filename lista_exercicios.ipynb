{
 "cells": [
  {
   "cell_type": "code",
   "execution_count": 49,
   "metadata": {},
   "outputs": [
    {
     "name": "stdout",
     "output_type": "stream",
     "text": [
      "Total de pares encontrados no código original:\n",
      "2\n",
      "\n",
      "\n",
      "Total de pares encontrados no código otimizado:\n",
      "2\n"
     ]
    }
   ],
   "source": [
    "# questão 01\n",
    "\n",
    "# CÓDIGO ORIGINAL\n",
    "# complexidade do código a seguir é O(n^2), dominada pelos dois laços.\n",
    "\n",
    "def contar_pares(A, k):\n",
    "\n",
    "    # atribuindo o valor 0 para a variavel count\n",
    "    # complexdidade: O(1)\n",
    "    count = 0\n",
    "\n",
    "    # laço FOR que precorre o vetor 'A' inserindo temporariamente o endereço dos elementos em 'i'\n",
    "    # complexidade: O(n)\n",
    "    for i in range(len(A)):\n",
    "\n",
    "        # Inicia o segundo laço que começa no próximo elemento após A[i] para evitar contar pares repetidos.\n",
    "        # complexidade O(1)\n",
    "        for j in range(i + 1, len(A)):\n",
    "\n",
    "            # verifica se a soma dos elemetos é igual 'K'\n",
    "            # complexidade: O(1)\n",
    "            if A[i] + A[j] == k:\n",
    "\n",
    "                # Incrementa 1 ao contador do laço para percorrer todos os elementos\n",
    "                # complexidade: O(1)\n",
    "                count += 1\n",
    "\n",
    "    # Retorna o numero total de pares cujo a soma é igual a 'K'\n",
    "    # complexidade: O(1)\n",
    "    return count\n",
    "\n",
    "\n",
    "# CÓDIGO CORRIGIDO PARA MELHORAR A EFICIÊNCIA\n",
    "# SUGESTÃO: Transformar em um for com complexidade de tempo O(n)\n",
    "\n",
    "def contar_pares_otimizado(A, k):\n",
    "    count = 0\n",
    "\n",
    "    # Conjunto para armazenar os elementos que já foram vistos\n",
    "    verificar = set()\n",
    "\n",
    "    # Laço para percorrer o vetor A\n",
    "    # Complexidade: O(n)\n",
    "    for num in A:\n",
    "        # Verifica se o complemento (k - num) está no conjunto\n",
    "        # Complexidade: O(1)\n",
    "        if (k - num) in verificar:\n",
    "            # Adiciona o número ao contador\n",
    "            # Complexidade: O(1)\n",
    "            count += 1\n",
    "\n",
    "        # Adicionando o número atual ao conjunto 'verificar'\n",
    "        # Complexidade: O(1)\n",
    "        verificar.add(num)\n",
    "\n",
    "    # Retorna o número total de pares cuja soma é igual a 'k'\n",
    "    # Complexidade: O(1)\n",
    "    return count\n",
    "\n",
    "\n",
    "A = [1, 2, 3, 4, 5]\n",
    "k = 6\n",
    "print('Total de pares encontrados no código original:')\n",
    "print(contar_pares(A, k))\n",
    "print('\\n')\n",
    "print('Total de pares encontrados no código otimizado:')\n",
    "print(contar_pares_otimizado(A, k))\n"
   ]
  },
  {
   "cell_type": "code",
   "execution_count": 4,
   "metadata": {},
   "outputs": [
    {
     "name": "stdout",
     "output_type": "stream",
     "text": [
      "As palavras (alegria e alergia) são anagramas\n",
      "As palavras (cantiga e catinga) são anagramas\n",
      "As palavras (carro e corar) são anagramas\n",
      "As palavras (muro e rumo) são anagramas\n",
      "As palavras (alegria e carro) não são anagramas\n",
      "As palavras (alegria e rumo) não são anagramas\n",
      "As palavras (catinga e corar) não são anagramas\n"
     ]
    }
   ],
   "source": [
    "# questão 02 - fonte: https://acervolima.com/python-sorted-para-verificar-se-duas-strings-sao-anagramas-ou-nao/\n",
    "\n",
    "def check(s1, s2):\n",
    "    if (sorted(s1) == sorted(s2)):\n",
    "        print(f'As palavras ({s1} e {s2}) são anagramas')\n",
    "    else:\n",
    "        print(f'As palavras ({s1} e {s2}) não são anagramas')\n",
    "\n",
    "# EXEMPLO\n",
    "check(\"alegria\", \"alergia\")\n",
    "check(\"cantiga\", \"catinga\")\n",
    "check(\"carro\", \"corar\")\n",
    "check(\"muro\", \"rumo\")\n",
    "\n",
    "check(\"alegria\", \"carro\")\n",
    "check(\"alegria\", \"rumo\")\n",
    "check(\"catinga\", \"corar\")\n"
   ]
  },
  {
   "cell_type": "code",
   "execution_count": null,
   "metadata": {},
   "outputs": [],
   "source": [
    "# questão 03\n",
    "\n",
    "# FONTES\n",
    "# BUBBLE SORT: https://panda.ime.usp.br/panda/static/pythonds_pt/05-OrdenacaoBusca/OBubbleSort.html\n",
    "# INSERTION SORT:https://awari.com.br/aprenda-a-implementar-o-algoritmo-de-ordenacao-insertion-sort-em-python/\n",
    "# SELECTION SORT:https://awari.com.br/selecao-de-ordenacao-em-python-aprenda-a-implementar-o-selection-sort/\n",
    "\n",
    "# BUBBLE SORT: percorre varias vezes um vetor comparando elementos adjacentes, os trocando caso estejam fora de ordem os alocando ao final da lista, reduzindo-a e ordenando o restante.\n",
    "# INSERTION SORT: contrói a lista ordenando um elemento de cada vez, trazendo e comparando os novos elementos com elementos anteriores até que esteja ordenado.\n",
    "# SELECTION SORT: compara um elemento de cada vez com os outros elementos da lista, caso o valor desse elemento seja maior que comparado a outro, então eles trocam de posição ordenando a lista"
   ]
  },
  {
   "cell_type": "code",
   "execution_count": 9,
   "metadata": {},
   "outputs": [
    {
     "name": "stdout",
     "output_type": "stream",
     "text": [
      "Fatorial de 4 =  24\n"
     ]
    }
   ],
   "source": [
    "# questão 04 - fonte: https://awari.com.br/fatorial-python-aprenda-a-calcular-o-fatorial-usando-python/\n",
    "\n",
    "# calculando uma fatorial\n",
    "def calc_fatorial(num):\n",
    "    result = 1\n",
    "\n",
    "    for i in range (1, num + 1):\n",
    "        result *= i\n",
    "    print(f'Fatorial de {num} = ', result)\n",
    "\n",
    "calc_fatorial(4)"
   ]
  },
  {
   "cell_type": "code",
   "execution_count": null,
   "metadata": {},
   "outputs": [],
   "source": [
    "# questão 05\n",
    "\n",
    "lista = [None] * 5\n",
    "tamanho = 0\n",
    "\n",
    "def inserir_posicao(index, x):\n",
    "    global tamanho\n",
    "    if tamanho < len(lista) and 0 <= index <= tamanho:\n",
    "        for i in range(tamanho, index, -1):\n",
    "            lista[i] = lista[i - 1]\n",
    "            lista[index] = x\n",
    "            tamanho += 1\n",
    "        else:\n",
    "            print('Posição inválida ou lista cheia')\n",
    "\n",
    "# insere no indice 2 o valor 3\n",
    "inserir_posicao(2, 3)"
   ]
  },
  {
   "cell_type": "code",
   "execution_count": 39,
   "metadata": {},
   "outputs": [
    {
     "name": "stdout",
     "output_type": "stream",
     "text": [
      "O Senhor dos Anéis e a Sociedade do Anel\n",
      "-----\n",
      "Harry Potter e a Pedra Filosofal\n",
      "-----\n",
      "As Crônicas de Narnia\n",
      "-----\n",
      "Topo da pilha: O Senhor dos Anéis e a Sociedade do Anel\n",
      "-----\n",
      "Tamanho da pilha: 3\n",
      "-----\n",
      "Removendo: O Senhor dos Anéis e a Sociedade do Anel\n",
      "-----\n",
      "Harry Potter e a Pedra Filosofal\n",
      "-----\n",
      "As Crônicas de Narnia\n",
      "-----\n"
     ]
    }
   ],
   "source": [
    "# questão 06 - fonte: https://medium.com/@emersoneduardo.airesnunes/estrutra-de-dados-pilha-4ce5da99a469\n",
    "\n",
    "class Node:\n",
    "    def __init__(self, data) -> None:\n",
    "        self.data = data\n",
    "        self.next = None\n",
    "\n",
    "class Stack:\n",
    "    def __init__(self) -> None:\n",
    "        self.top = None\n",
    "        self.size = 0\n",
    "\n",
    "    # Adiciona novos elementos na pilha\n",
    "    def push(self, node):\n",
    "        node.next = self.top\n",
    "        self.top = node\n",
    "        self.size += 1\n",
    "\n",
    "    # Remove um elemento da pilha\n",
    "    def pop(self):\n",
    "        if self.size > 0:\n",
    "            node = self.top\n",
    "            self.top = node.next\n",
    "            self.size -= 1\n",
    "            return node.data\n",
    "        else:\n",
    "            print('A pilha está vazia')\n",
    "            return None\n",
    "\n",
    "    # Retorna o topo da pilha\n",
    "    def stack_top(self):\n",
    "        if self.top is not None:\n",
    "            return self.top.data\n",
    "        else:\n",
    "            return 'A pilha está vazia'\n",
    "\n",
    "    # Retorna o tamanho da pilha\n",
    "    def stack_size(self):\n",
    "        return self.size\n",
    "\n",
    "    # Retorna os objetos como strings\n",
    "    def __str__(self) -> str:\n",
    "        if self.top is not None:\n",
    "            node = self.top\n",
    "            stack_node_list = []\n",
    "\n",
    "            while node is not None:\n",
    "                stack_node_list.append(node.data)\n",
    "                node = node.next\n",
    "\n",
    "            return \"\\n-----\\n\".join(stack_node_list)\n",
    "        else:\n",
    "            return \"A pilha está vazia\"\n",
    "\n",
    "# Instanciando objetos para a pilha\n",
    "book1 = Node('As Crônicas de Narnia')\n",
    "book2 = Node('Harry Potter e a Pedra Filosofal')\n",
    "book3 = Node('O Senhor dos Anéis e a Sociedade do Anel')\n",
    "\n",
    "# Instanciando a pilha\n",
    "stack = Stack()\n",
    "\n",
    "# Empilhando os livros com o método push\n",
    "stack.push(book1)\n",
    "stack.push(book2)\n",
    "stack.push(book3)\n",
    "\n",
    "# Imprimindo a pilha\n",
    "print(stack)\n",
    "\n",
    "# Elemento do topo da pilha\n",
    "print(\"-----\")\n",
    "print(\"Topo da pilha:\", stack.stack_top())\n",
    "\n",
    "# Tamanho da pilha\n",
    "print(\"-----\")\n",
    "print(\"Tamanho da pilha:\", stack.stack_size())\n",
    "\n",
    "# Remover um objeto da pilha\n",
    "print(\"-----\")\n",
    "print(\"Removendo:\", stack.pop())\n",
    "print(\"-----\")\n",
    "print(stack)\n",
    "print(\"-----\")"
   ]
  },
  {
   "cell_type": "code",
   "execution_count": 45,
   "metadata": {},
   "outputs": [
    {
     "name": "stdout",
     "output_type": "stream",
     "text": [
      "Fila:  6 <- 5 <- 4 <- 3 <- 2 <- 1\n",
      "Desenfileirada:  1\n",
      "Fila após remover um item:  6 <- 5 <- 4 <- 3 <- 2\n",
      "Tamanho da fila:  5\n",
      "A fila está vazia?:  False\n"
     ]
    }
   ],
   "source": [
    "# questão 07 fonte: https://panda.ime.usp.br/panda/static/pythonds_pt/03-EDBasicos/12-FilaImplementacao.html\n",
    "\n",
    "class Queue:\n",
    "    def __init__(self):\n",
    "        self.items = []\n",
    "\n",
    "    # verifica se a fila está vazia\n",
    "    def isEmpty(self):\n",
    "        return self.items == []\n",
    "\n",
    "    # adiciona itens na fila\n",
    "    def enqueue(self, item):\n",
    "        self.items.insert(0,item)\n",
    "\n",
    "    # remove itens da fila\n",
    "    def dequeue(self):\n",
    "        if self.isEmpty():\n",
    "            raise IndexError('Retirar da fila vazia')\n",
    "        return self.items.pop()\n",
    "\n",
    "    # tamanho da fila\n",
    "    def size(self):\n",
    "        return len(self.items)\n",
    "    \n",
    "    # Retorna os objetos como strings\n",
    "    def __str__(self):\n",
    "        if self.isEmpty():\n",
    "            return \"Fila está vazia\"\n",
    "        return \" <- \".join(map(str, self.items))\n",
    "    \n",
    "item = Queue()\n",
    "\n",
    "item.enqueue(1)\n",
    "item.enqueue(2)\n",
    "item.enqueue(3)\n",
    "item.enqueue(4)\n",
    "item.enqueue(5)\n",
    "item.enqueue(6)\n",
    "\n",
    "print('Fila: ', item)\n",
    "\n",
    "print('Desenfileirada: ', item.dequeue())\n",
    "\n",
    "print('Fila após remover um item: ', item)\n",
    "\n",
    "print('Tamanho da fila: ', item.size())\n",
    "\n",
    "print('A fila está vazia?: ', item.isEmpty())\n"
   ]
  },
  {
   "cell_type": "code",
   "execution_count": 13,
   "metadata": {},
   "outputs": [
    {
     "name": "stdout",
     "output_type": "stream",
     "text": [
      "4 7 2 \n"
     ]
    }
   ],
   "source": [
    "# questão 08\n",
    "\n",
    "lista = [None] * 5\n",
    "tamanho = 0\n",
    "\n",
    "def inserir_elemento(elemento):\n",
    "    global tamanho\n",
    "    if tamanho < len(lista):\n",
    "        lista[tamanho] = elemento\n",
    "        tamanho += 1\n",
    "    else:\n",
    "        print('lista cheia')\n",
    "\n",
    "def imprimir_lista():\n",
    "    for i in range(tamanho):\n",
    "        print(lista[i], end=\" \")\n",
    "    print()\n",
    "\n",
    "inserir_elemento(4)\n",
    "inserir_elemento(7)\n",
    "inserir_elemento(2)\n",
    "imprimir_lista()\n"
   ]
  },
  {
   "cell_type": "code",
   "execution_count": 14,
   "metadata": {},
   "outputs": [
    {
     "name": "stdout",
     "output_type": "stream",
     "text": [
      "[17, 20, 26, 31, 44, 54, 55, 77, 93]\n"
     ]
    }
   ],
   "source": [
    "# questão 09 - A - fonte: https://panda.ime.usp.br/panda/static/pythonds_pt/05-OrdenacaoBusca/OBubbleSort.html\n",
    "\n",
    "def bubbleSort(lista):\n",
    "    for elemento in range(len(lista) -1, 0, -1):\n",
    "        for i in range(elemento):\n",
    "            if lista[i] > lista [i + 1]:\n",
    "                temp = lista[i]\n",
    "                lista[i] = lista[i + 1]\n",
    "                lista[i + 1] = temp\n",
    "\n",
    "lista = [54,26,93,17,77,31,44,55,20]\n",
    "bubbleSort(lista)\n",
    "print(lista)"
   ]
  },
  {
   "cell_type": "code",
   "execution_count": 16,
   "metadata": {},
   "outputs": [
    {
     "name": "stdout",
     "output_type": "stream",
     "text": [
      "[1, 2, 5, 7, 8, 12]\n"
     ]
    }
   ],
   "source": [
    "# questão 09 - B - fonte: https://awari.com.br/aprenda-a-implementar-o-algoritmo-de-ordenacao-insertion-sort-em-python/\n",
    "\n",
    "# insertion sort em ordem crescente\n",
    "\n",
    "def insertionSort(lista):\n",
    "    for i in range(1, len(lista)):\n",
    "        chave = lista[i]\n",
    "        j = i - 1\n",
    "\n",
    "        while j >= 0 and lista[j] > chave:\n",
    "            lista[j + 1] = lista[j]\n",
    "            j -= 1\n",
    "        lista[j + 1] = chave\n",
    "\n",
    "lista = [5, 2, 8, 12, 1, 7]\n",
    "insertionSort(lista)\n",
    "print(lista)"
   ]
  },
  {
   "cell_type": "code",
   "execution_count": 17,
   "metadata": {},
   "outputs": [
    {
     "name": "stdout",
     "output_type": "stream",
     "text": [
      "Lista ordenada:  [11, 12, 22, 25, 64]\n"
     ]
    }
   ],
   "source": [
    "# questão 09 - C - fonte: https://awari.com.br/selecao-de-ordenacao-em-python-aprenda-a-implementar-o-selection-sort/\n",
    "\n",
    "# selection sort pega o primeiro elemento do vetor e compara ele com todos os outros\n",
    "# elementos. Se o elemento que ele selecionou for maior que o elemento com o qual é feito\n",
    "# a comparação, então é feita a troca de posição de forma que o vetor vai se ordenando\n",
    "\n",
    "def selectionSort(lista):\n",
    "    n = len(lista)\n",
    "    for i in range(n):\n",
    "        menor_indice = i\n",
    "        for j in range(i + 1, n):\n",
    "            if lista[j] < lista[menor_indice]:\n",
    "                menor_indice = j\n",
    "        \n",
    "        lista[i], lista[menor_indice] = lista[menor_indice], lista[i]\n",
    "\n",
    "    return lista\n",
    "\n",
    "lista = [64, 25, 12, 22, 11]\n",
    "lista_ordenada = selectionSort(lista)\n",
    "print('Lista ordenada: ', lista_ordenada)"
   ]
  },
  {
   "cell_type": "code",
   "execution_count": 23,
   "metadata": {},
   "outputs": [
    {
     "name": "stdout",
     "output_type": "stream",
     "text": [
      "[1, 1, 2, 3, 6, 8, 10]\n"
     ]
    }
   ],
   "source": [
    "# questão 09 - D - fonte: https://awari.com.br/python-aprenda-a-ordenar-listas-rapidamente-com-quicksort/#:~:text=Uma%20das%20estrat%C3%A9gias%20mais%20comuns,Quicksort%20executa%20com%20desempenho%20ruim.\n",
    "\n",
    "def quickSort(lista):\n",
    "    if len (lista) <= 1:\n",
    "        return lista\n",
    "    else:\n",
    "        pivot = lista[len(lista) // 2]\n",
    "        esquerda = [x for x in lista if x < pivot]\n",
    "        meio = [x for x in lista if x == pivot]\n",
    "        direita = [x for x in lista if x > pivot]\n",
    "\n",
    "        return quickSort(esquerda) + meio + quickSort(direita)\n",
    "    \n",
    "lista = [3, 6, 8, 10, 1, 2, 1]\n",
    "sorted_lista = quickSort(lista)\n",
    "print(sorted_lista)"
   ]
  },
  {
   "cell_type": "code",
   "execution_count": 21,
   "metadata": {},
   "outputs": [
    {
     "name": "stdout",
     "output_type": "stream",
     "text": [
      "[12, 8, 7, 5, 2, 1]\n"
     ]
    }
   ],
   "source": [
    "# questão 09 - E - fonte: https://awari.com.br/aprenda-a-implementar-o-algoritmo-de-ordenacao-insertion-sort-em-python/\n",
    "\n",
    "# insertion sort em ordem decrescente\n",
    "\n",
    "def insertionSort(lista):\n",
    "    for i in range(1, len(lista)):\n",
    "        chave = lista[i]\n",
    "        j = i - 1\n",
    "\n",
    "        # basta inverter o sinal lista[j] > chave, para lista [j] < chave\n",
    "        while j >= 0 and lista[j] < chave:\n",
    "            lista[j + 1] = lista[j]\n",
    "            j -= 1\n",
    "\n",
    "        # com a inversão do sinal acima, lista[j + 1] recebe o menor valor aqui\n",
    "        lista[j + 1] = chave\n",
    "\n",
    "lista = [5, 2, 8, 12, 1, 7]\n",
    "insertionSort(lista)\n",
    "print(lista)"
   ]
  }
 ],
 "metadata": {
  "kernelspec": {
   "display_name": "Python 3",
   "language": "python",
   "name": "python3"
  },
  "language_info": {
   "codemirror_mode": {
    "name": "ipython",
    "version": 3
   },
   "file_extension": ".py",
   "mimetype": "text/x-python",
   "name": "python",
   "nbconvert_exporter": "python",
   "pygments_lexer": "ipython3",
   "version": "3.11.2"
  }
 },
 "nbformat": 4,
 "nbformat_minor": 2
}
